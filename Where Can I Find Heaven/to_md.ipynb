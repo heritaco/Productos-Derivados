{
 "cells": [
  {
   "cell_type": "code",
   "execution_count": 1,
   "id": "bc249537",
   "metadata": {},
   "outputs": [
    {
     "name": "stdout",
     "output_type": "stream",
     "text": [
      "Converted .\\BMV.ipynb -> .\\BMV.md\n",
      "Converted .\\CME.ipynb -> .\\CME.md\n",
      "Converted .\\Important Derivatives to Mexico.ipynb -> .\\Important Derivatives to Mexico.md\n",
      "Converted .\\Inflacion.ipynb -> .\\Inflacion.md\n",
      "Converted .\\IPC.ipynb -> .\\IPC.md\n",
      "Converted .\\MexDer.ipynb -> .\\MexDer.md\n",
      "Converted .\\Politica Monetaria.ipynb -> .\\Politica Monetaria.md\n",
      "Converted .\\TIIE.ipynb -> .\\TIIE.md\n",
      "Converted .\\TIR.ipynb -> .\\TIR.md\n"
     ]
    },
    {
     "ename": "NotJSONError",
     "evalue": "Notebook does not appear to be JSON: ''",
     "output_type": "error",
     "traceback": [
      "\u001b[31m---------------------------------------------------------------------------\u001b[39m",
      "\u001b[31mJSONDecodeError\u001b[39m                           Traceback (most recent call last)",
      "\u001b[36mFile \u001b[39m\u001b[32mc:\\Users\\herie\\miniconda3\\envs\\u\\Lib\\site-packages\\nbformat\\reader.py:19\u001b[39m, in \u001b[36mparse_json\u001b[39m\u001b[34m(s, **kwargs)\u001b[39m\n\u001b[32m     18\u001b[39m \u001b[38;5;28;01mtry\u001b[39;00m:\n\u001b[32m---> \u001b[39m\u001b[32m19\u001b[39m     nb_dict = json.loads(s, **kwargs)\n\u001b[32m     20\u001b[39m \u001b[38;5;28;01mexcept\u001b[39;00m \u001b[38;5;167;01mValueError\u001b[39;00m \u001b[38;5;28;01mas\u001b[39;00m e:\n",
      "\u001b[36mFile \u001b[39m\u001b[32mc:\\Users\\herie\\miniconda3\\envs\\u\\Lib\\json\\__init__.py:346\u001b[39m, in \u001b[36mloads\u001b[39m\u001b[34m(s, cls, object_hook, parse_float, parse_int, parse_constant, object_pairs_hook, **kw)\u001b[39m\n\u001b[32m    343\u001b[39m \u001b[38;5;28;01mif\u001b[39;00m (\u001b[38;5;28mcls\u001b[39m \u001b[38;5;129;01mis\u001b[39;00m \u001b[38;5;28;01mNone\u001b[39;00m \u001b[38;5;129;01mand\u001b[39;00m object_hook \u001b[38;5;129;01mis\u001b[39;00m \u001b[38;5;28;01mNone\u001b[39;00m \u001b[38;5;129;01mand\u001b[39;00m\n\u001b[32m    344\u001b[39m         parse_int \u001b[38;5;129;01mis\u001b[39;00m \u001b[38;5;28;01mNone\u001b[39;00m \u001b[38;5;129;01mand\u001b[39;00m parse_float \u001b[38;5;129;01mis\u001b[39;00m \u001b[38;5;28;01mNone\u001b[39;00m \u001b[38;5;129;01mand\u001b[39;00m\n\u001b[32m    345\u001b[39m         parse_constant \u001b[38;5;129;01mis\u001b[39;00m \u001b[38;5;28;01mNone\u001b[39;00m \u001b[38;5;129;01mand\u001b[39;00m object_pairs_hook \u001b[38;5;129;01mis\u001b[39;00m \u001b[38;5;28;01mNone\u001b[39;00m \u001b[38;5;129;01mand\u001b[39;00m \u001b[38;5;129;01mnot\u001b[39;00m kw):\n\u001b[32m--> \u001b[39m\u001b[32m346\u001b[39m     \u001b[38;5;28;01mreturn\u001b[39;00m _default_decoder.decode(s)\n\u001b[32m    347\u001b[39m \u001b[38;5;28;01mif\u001b[39;00m \u001b[38;5;28mcls\u001b[39m \u001b[38;5;129;01mis\u001b[39;00m \u001b[38;5;28;01mNone\u001b[39;00m:\n",
      "\u001b[36mFile \u001b[39m\u001b[32mc:\\Users\\herie\\miniconda3\\envs\\u\\Lib\\json\\decoder.py:337\u001b[39m, in \u001b[36mJSONDecoder.decode\u001b[39m\u001b[34m(self, s, _w)\u001b[39m\n\u001b[32m    333\u001b[39m \u001b[38;5;250m\u001b[39m\u001b[33;03m\"\"\"Return the Python representation of ``s`` (a ``str`` instance\u001b[39;00m\n\u001b[32m    334\u001b[39m \u001b[33;03mcontaining a JSON document).\u001b[39;00m\n\u001b[32m    335\u001b[39m \n\u001b[32m    336\u001b[39m \u001b[33;03m\"\"\"\u001b[39;00m\n\u001b[32m--> \u001b[39m\u001b[32m337\u001b[39m obj, end = \u001b[38;5;28mself\u001b[39m.raw_decode(s, idx=_w(s, \u001b[32m0\u001b[39m).end())\n\u001b[32m    338\u001b[39m end = _w(s, end).end()\n",
      "\u001b[36mFile \u001b[39m\u001b[32mc:\\Users\\herie\\miniconda3\\envs\\u\\Lib\\json\\decoder.py:355\u001b[39m, in \u001b[36mJSONDecoder.raw_decode\u001b[39m\u001b[34m(self, s, idx)\u001b[39m\n\u001b[32m    354\u001b[39m \u001b[38;5;28;01mexcept\u001b[39;00m \u001b[38;5;167;01mStopIteration\u001b[39;00m \u001b[38;5;28;01mas\u001b[39;00m err:\n\u001b[32m--> \u001b[39m\u001b[32m355\u001b[39m     \u001b[38;5;28;01mraise\u001b[39;00m JSONDecodeError(\u001b[33m\"\u001b[39m\u001b[33mExpecting value\u001b[39m\u001b[33m\"\u001b[39m, s, err.value) \u001b[38;5;28;01mfrom\u001b[39;00m\u001b[38;5;250m \u001b[39m\u001b[38;5;28;01mNone\u001b[39;00m\n\u001b[32m    356\u001b[39m \u001b[38;5;28;01mreturn\u001b[39;00m obj, end\n",
      "\u001b[31mJSONDecodeError\u001b[39m: Expecting value: line 1 column 1 (char 0)",
      "\nThe above exception was the direct cause of the following exception:\n",
      "\u001b[31mNotJSONError\u001b[39m                              Traceback (most recent call last)",
      "\u001b[36mCell\u001b[39m\u001b[36m \u001b[39m\u001b[32mIn[1]\u001b[39m\u001b[32m, line 21\u001b[39m\n\u001b[32m     19\u001b[39m ipynb_path = os.path.join(root, file)\n\u001b[32m     20\u001b[39m md_path = os.path.splitext(ipynb_path)[\u001b[32m0\u001b[39m] + \u001b[33m'\u001b[39m\u001b[33m.md\u001b[39m\u001b[33m'\u001b[39m\n\u001b[32m---> \u001b[39m\u001b[32m21\u001b[39m convert_ipynb_to_md(ipynb_path, md_path)\n\u001b[32m     22\u001b[39m \u001b[38;5;28mprint\u001b[39m(\u001b[33mf\u001b[39m\u001b[33m'\u001b[39m\u001b[33mConverted \u001b[39m\u001b[38;5;132;01m{\u001b[39;00mipynb_path\u001b[38;5;132;01m}\u001b[39;00m\u001b[33m -> \u001b[39m\u001b[38;5;132;01m{\u001b[39;00mmd_path\u001b[38;5;132;01m}\u001b[39;00m\u001b[33m'\u001b[39m)\n",
      "\u001b[36mCell\u001b[39m\u001b[36m \u001b[39m\u001b[32mIn[1]\u001b[39m\u001b[32m, line 7\u001b[39m, in \u001b[36mconvert_ipynb_to_md\u001b[39m\u001b[34m(ipynb_path, md_path)\u001b[39m\n\u001b[32m      5\u001b[39m \u001b[38;5;28;01mdef\u001b[39;00m\u001b[38;5;250m \u001b[39m\u001b[34mconvert_ipynb_to_md\u001b[39m(ipynb_path, md_path):\n\u001b[32m      6\u001b[39m     \u001b[38;5;28;01mwith\u001b[39;00m \u001b[38;5;28mopen\u001b[39m(ipynb_path, \u001b[33m'\u001b[39m\u001b[33mr\u001b[39m\u001b[33m'\u001b[39m, encoding=\u001b[33m'\u001b[39m\u001b[33mutf-8\u001b[39m\u001b[33m'\u001b[39m) \u001b[38;5;28;01mas\u001b[39;00m f:\n\u001b[32m----> \u001b[39m\u001b[32m7\u001b[39m         nb = nbformat.read(f, as_version=\u001b[32m4\u001b[39m)\n\u001b[32m      8\u001b[39m     md_lines = []\n\u001b[32m      9\u001b[39m     \u001b[38;5;28;01mfor\u001b[39;00m cell \u001b[38;5;129;01min\u001b[39;00m nb.cells:\n",
      "\u001b[36mFile \u001b[39m\u001b[32mc:\\Users\\herie\\miniconda3\\envs\\u\\Lib\\site-packages\\nbformat\\__init__.py:174\u001b[39m, in \u001b[36mread\u001b[39m\u001b[34m(fp, as_version, capture_validation_error, **kwargs)\u001b[39m\n\u001b[32m    171\u001b[39m     \u001b[38;5;28;01mwith\u001b[39;00m \u001b[38;5;28mopen\u001b[39m(fp, encoding=\u001b[33m\"\u001b[39m\u001b[33mutf8\u001b[39m\u001b[33m\"\u001b[39m) \u001b[38;5;28;01mas\u001b[39;00m f:  \u001b[38;5;66;03m# noqa: PTH123\u001b[39;00m\n\u001b[32m    172\u001b[39m         \u001b[38;5;28;01mreturn\u001b[39;00m reads(f.read(), as_version, capture_validation_error, **kwargs)\n\u001b[32m--> \u001b[39m\u001b[32m174\u001b[39m \u001b[38;5;28;01mreturn\u001b[39;00m reads(buf, as_version, capture_validation_error, **kwargs)\n",
      "\u001b[36mFile \u001b[39m\u001b[32mc:\\Users\\herie\\miniconda3\\envs\\u\\Lib\\site-packages\\nbformat\\__init__.py:92\u001b[39m, in \u001b[36mreads\u001b[39m\u001b[34m(s, as_version, capture_validation_error, **kwargs)\u001b[39m\n\u001b[32m     66\u001b[39m \u001b[38;5;28;01mdef\u001b[39;00m\u001b[38;5;250m \u001b[39m\u001b[34mreads\u001b[39m(s, as_version, capture_validation_error=\u001b[38;5;28;01mNone\u001b[39;00m, **kwargs):\n\u001b[32m     67\u001b[39m \u001b[38;5;250m    \u001b[39m\u001b[33;03m\"\"\"Read a notebook from a string and return the NotebookNode object as the given version.\u001b[39;00m\n\u001b[32m     68\u001b[39m \n\u001b[32m     69\u001b[39m \u001b[33;03m    The string can contain a notebook of any version.\u001b[39;00m\n\u001b[32m   (...)\u001b[39m\u001b[32m     90\u001b[39m \u001b[33;03m        The notebook that was read.\u001b[39;00m\n\u001b[32m     91\u001b[39m \u001b[33;03m    \"\"\"\u001b[39;00m\n\u001b[32m---> \u001b[39m\u001b[32m92\u001b[39m     nb = reader.reads(s, **kwargs)\n\u001b[32m     93\u001b[39m     \u001b[38;5;28;01mif\u001b[39;00m as_version \u001b[38;5;129;01mis\u001b[39;00m \u001b[38;5;129;01mnot\u001b[39;00m NO_CONVERT:\n\u001b[32m     94\u001b[39m         nb = convert(nb, as_version)\n",
      "\u001b[36mFile \u001b[39m\u001b[32mc:\\Users\\herie\\miniconda3\\envs\\u\\Lib\\site-packages\\nbformat\\reader.py:75\u001b[39m, in \u001b[36mreads\u001b[39m\u001b[34m(s, **kwargs)\u001b[39m\n\u001b[32m     50\u001b[39m \u001b[38;5;250m\u001b[39m\u001b[33;03m\"\"\"Read a notebook from a json string and return the\u001b[39;00m\n\u001b[32m     51\u001b[39m \u001b[33;03mNotebookNode object.\u001b[39;00m\n\u001b[32m     52\u001b[39m \n\u001b[32m   (...)\u001b[39m\u001b[32m     71\u001b[39m \u001b[33;03m    Specified major version is invalid or unsupported.\u001b[39;00m\n\u001b[32m     72\u001b[39m \u001b[33;03m\"\"\"\u001b[39;00m\n\u001b[32m     73\u001b[39m \u001b[38;5;28;01mfrom\u001b[39;00m\u001b[38;5;250m \u001b[39m\u001b[34;01m.\u001b[39;00m\u001b[38;5;250m \u001b[39m\u001b[38;5;28;01mimport\u001b[39;00m NBFormatError, versions\n\u001b[32m---> \u001b[39m\u001b[32m75\u001b[39m nb_dict = parse_json(s, **kwargs)\n\u001b[32m     76\u001b[39m (major, minor) = get_version(nb_dict)\n\u001b[32m     77\u001b[39m \u001b[38;5;28;01mif\u001b[39;00m major \u001b[38;5;129;01min\u001b[39;00m versions:\n",
      "\u001b[36mFile \u001b[39m\u001b[32mc:\\Users\\herie\\miniconda3\\envs\\u\\Lib\\site-packages\\nbformat\\reader.py:25\u001b[39m, in \u001b[36mparse_json\u001b[39m\u001b[34m(s, **kwargs)\u001b[39m\n\u001b[32m     23\u001b[39m     \u001b[38;5;28;01mif\u001b[39;00m \u001b[38;5;28mlen\u001b[39m(message) > \u001b[32m80\u001b[39m:\n\u001b[32m     24\u001b[39m         message = message[:\u001b[32m77\u001b[39m] + \u001b[33m\"\u001b[39m\u001b[33m...\u001b[39m\u001b[33m\"\u001b[39m\n\u001b[32m---> \u001b[39m\u001b[32m25\u001b[39m     \u001b[38;5;28;01mraise\u001b[39;00m NotJSONError(message) \u001b[38;5;28;01mfrom\u001b[39;00m\u001b[38;5;250m \u001b[39m\u001b[34;01me\u001b[39;00m\n\u001b[32m     26\u001b[39m \u001b[38;5;28;01mreturn\u001b[39;00m nb_dict\n",
      "\u001b[31mNotJSONError\u001b[39m: Notebook does not appear to be JSON: ''"
     ]
    }
   ],
   "source": [
    "# Save this as convert_ipynb_to_md.py and run in your workspace root\n",
    "import os\n",
    "import nbformat\n",
    "\n",
    "def convert_ipynb_to_md(ipynb_path, md_path):\n",
    "    with open(ipynb_path, 'r', encoding='utf-8') as f:\n",
    "        nb = nbformat.read(f, as_version=4)\n",
    "    md_lines = []\n",
    "    for cell in nb.cells:\n",
    "        if cell.cell_type == 'markdown':\n",
    "            md_lines.extend(cell.source.splitlines())\n",
    "            md_lines.append('')  # Add a blank line between cells\n",
    "    with open(md_path, 'w', encoding='utf-8') as f:\n",
    "        f.write('\\n'.join(md_lines))\n",
    "\n",
    "for root, dirs, files in os.walk('.'):\n",
    "    for file in files:\n",
    "        if file.endswith('.ipynb'):\n",
    "            ipynb_path = os.path.join(root, file)\n",
    "            md_path = os.path.splitext(ipynb_path)[0] + '.md'\n",
    "            convert_ipynb_to_md(ipynb_path, md_path)\n",
    "            print(f'Converted {ipynb_path} -> {md_path}')"
   ]
  }
 ],
 "metadata": {
  "kernelspec": {
   "display_name": "u",
   "language": "python",
   "name": "python3"
  },
  "language_info": {
   "codemirror_mode": {
    "name": "ipython",
    "version": 3
   },
   "file_extension": ".py",
   "mimetype": "text/x-python",
   "name": "python",
   "nbconvert_exporter": "python",
   "pygments_lexer": "ipython3",
   "version": "3.11.13"
  }
 },
 "nbformat": 4,
 "nbformat_minor": 5
}
