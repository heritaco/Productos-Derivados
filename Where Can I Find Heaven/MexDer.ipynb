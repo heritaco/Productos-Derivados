{
 "cells": [
  {
   "cell_type": "markdown",
   "id": "0f05ad33",
   "metadata": {},
   "source": [
    "http://mexder.com.mx/wb3/wb/MEX/contratos_futuro"
   ]
  },
  {
   "cell_type": "markdown",
   "id": "77d9aef9",
   "metadata": {},
   "source": [
    "Definiciones, en orden:\n",
    "\n",
    "* **Contrato**: subyacente y tipo de futuro. Aquí: **Dólar** vs MXN.\n",
    "* **Términos del contrato**: qué exactamente se negocia. Aquí: “moneda de curso legal de EUA”.\n",
    "* **Clave de pizarra**: ticker del futuro. Ej.: **DA** para dólar.\n",
    "* **Tamaño del contrato**: multiplicador. Aquí: **10,000 USD** por contrato.\n",
    "* **Periodo del contrato**: vencimientos disponibles (diarios, mensuales, trimestrales, hasta X años).\n",
    "* **Unidad de cotización**: cómo se expresa el precio. Aquí: **MXN por USD**.\n",
    "* **Fluctuación mínima**: **tick size** y su **tick value**. Aquí: **0.0001 MXN** por USD ⇒ **0.0001 × 10,000 = 1 MXN** por contrato.\n",
    "* **Horario de negociación**: ventana de trading en hora CDMX.\n",
    "* **Último día de negociación y vencimiento**: regla para el **último día operable** y la **fecha de expiración**.\n",
    "* **Liquidación al vencimiento**: cómo y cuándo se liquida (entrega física o por diferencias) y la **fecha de liquidación** operativa.\n",
    "\n",
    "Ejemplo con tu línea:\n",
    "\n",
    "* **“DA16 JN25”** = **DA** (dólar), **16** (día de vencimiento), **JN** (junio), **25** (año 2025).\n",
    "* Si el precio pasa de 17.3450 a 17.3460 MXN/USD, **ΔP\\&L = 10 ticks × 1 MXN = 10 MXN** por contrato.\n",
    "\n",
    "\n",
    "puja significa oferta en una subasta.\n"
   ]
  }
 ],
 "metadata": {
  "language_info": {
   "name": "python"
  }
 },
 "nbformat": 4,
 "nbformat_minor": 5
}
