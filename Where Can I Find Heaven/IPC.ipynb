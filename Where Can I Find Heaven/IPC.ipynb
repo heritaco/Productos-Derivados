{
 "cells": [
  {
   "cell_type": "markdown",
   "id": "317aa04d",
   "metadata": {},
   "source": [
    "# 35 Empresas del S&P/BMV IPC\n",
    "\n",
    "> Standard & Poor's/Bolsa Mexicana de Valores IPC\n"
   ]
  },
  {
   "cell_type": "markdown",
   "id": "7deb4af8",
   "metadata": {},
   "source": [
    "https://companiesmarketcap.com/mexico/largest-companies-in-mexico-by-market-cap/"
   ]
  },
  {
   "cell_type": "markdown",
   "id": "5340817f",
   "metadata": {},
   "source": [
    "| Empresa (ticker BMV)                 | Qué hace                                           | Industria (GICS)                                          | Ejemplos comerciales                |\n",
    "| ------------------------------------ | -------------------------------------------------- | --------------------------------------------------------- | ----------------------------------- |\n",
    "| Alfa (ALFAA)                         | Holding enfocada en alimentos refrigerados (Sigma) | Consumo básico (reclasificada a Consumer Staples en 2025) | Fud, San Rafael                     |\n",
    "| Alsea (ALSEA)                        | Operadora de restaurantes y cafeterías             | Consumo discrecional                                      | Starbucks, Domino’s                 |\n",
    "| América Móvil (AMXB)                 | Telecom móviles y fijas                            | Comunicación                                              | Telcel, Telmex, Claro               |\n",
    "| Arca Continental (AC)                | Embotellado de bebidas y botanas                   | Consumo básico                                            | Coca-Cola, Bokados                  |\n",
    "| Banco del Bajío (BBAJIO)             | Banca comercial                                    | Financieros                                               | BanBajío                            |\n",
    "| Becle (CUERVO)                       | Bebidas alcohólicas                                | Consumo básico                                            | José Cuervo, 1800                   |\n",
    "| Bolsa Mexicana de Valores (BOLSA)    | Bolsa y servicios de mercado                       | Financieros                                               | BMV                                 |\n",
    "| Cemex (CEMEXCPO)                     | Cemento y materiales                               | Materiales                                                | Cemex                               |\n",
    "| Coca-Cola FEMSA (KOFUBL)             | Embotellado de refrescos                           | Consumo básico                                            | Coca-Cola FEMSA                     |\n",
    "| Vesta (VESTA)                        | Desarrollo y renta de naves industriales           | Bienes raíces                                             | Parques industriales Vesta          |\n",
    "| FEMSA (FEMSAUBD)                     | Retail de consumo básico y logística de bebidas    | Consumo básico                                            | OXXO, OXXO Gas                      |\n",
    "| Genomma Lab (LABB)                   | OTC y cuidado personal                             | Salud                                                     | Asepxia, XL-3                       |\n",
    "| Gentera (GENTERA)                    | Microfinanzas y banca                              | Financieros                                               | Compartamos Banco                   |\n",
    "| Gruma (GRUMAB)                       | Harina de maíz y tortillas                         | Consumo básico                                            | Maseca, Mission                     |\n",
    "| OMA (OMAB)                           | Operación de aeropuertos (noreste)                 | Industriales                                              | Aeropuerto de Monterrey             |\n",
    "| GAP (GAPB)                           | Operación de aeropuertos (occidente)               | Industriales                                              | Aeropuertos de Guadalajara, Tijuana |\n",
    "| ASUR (ASURB)                         | Operación de aeropuertos (sureste)                 | Industriales                                              | Aeropuerto de Cancún                |\n",
    "| Bimbo (BIMBOA)                       | Panificación y snacks                              | Consumo básico                                            | Bimbo, Marinela, Barcel             |\n",
    "| Grupo Carso (GCARSOA1)               | Conglomerado industrial e infraestructura          | Industriales                                              | Condumex, CICSA                     |\n",
    "| GCC (GCC)                            | Cemento                                            | Materiales                                                | GCC                                 |\n",
    "| Chedraui (CHDRAUIB)                  | Supermercados                                      | Consumo básico                                            | Chedraui, Super Chedraui            |\n",
    "| Banorte (GFNORTEO)                   | Banca universal                                    | Financieros                                               | Banorte                             |\n",
    "| Inbursa (GFINBURO)                   | Banca y seguros                                    | Financieros                                               | Banco Inbursa, Seguros Inbursa      |\n",
    "| Grupo México (GMEXICOB)              | Minería y ferrocarril                              | Materiales                                                | Ferromex                            |\n",
    "| Televisa (TLEVISACPO)                | Medios y TV de paga/abierta                        | Comunicación                                              | Las Estrellas, Sky                  |\n",
    "| Peñoles (PE\\&OLES)                   | Metales preciosos y químicos                       | Materiales                                                | Peñoles                             |\n",
    "| Kimberly-Clark de México (KIMBERA/B) | Higiene y papel                                    | Consumo básico                                            | Kleenex, Huggies                    |\n",
    "| Megacable (MEGACPO)                  | Cable, internet y TV                               | Comunicación                                              | Megacable, Xview                    |\n",
    "| Orbia (ORBIA)                        | Químicos, tuberías y riego                         | Materiales                                                | Wavin, Netafim                      |\n",
    "| Pinfra (PINFRA)                      | Concesiones de autopistas                          | Industriales                                              | Autopistas (p.ej., Méx-Tuxpan)      |\n",
    "| Quálitas (Q)                         | Seguros de autos                                   | Financieros                                               | Quálitas                            |\n",
    "| Regional (RA)                        | Banca regional                                     | Financieros                                               | Banregio                            |\n",
    "| Walmart de México (WALMEX)           | Autoservicio                                       | Consumo básico                                            | Bodega Aurrerá, Walmart             |\n",
    "| Liverpool (LIVEPOLC-1)               | Tiendas departamentales y centros comerciales      | Consumo discrecional                                      | Liverpool, Suburbia                 |\n",
    "| La Comer (LACOMERUBC)                | Supermercados premium                              | Consumo básico                                            | La Comer, City Market               |\n"
   ]
  }
 ],
 "metadata": {
  "language_info": {
   "name": "python"
  }
 },
 "nbformat": 4,
 "nbformat_minor": 5
}
