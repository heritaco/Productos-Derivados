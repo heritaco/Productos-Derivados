{
 "cells": [
  {
   "cell_type": "markdown",
   "id": "0c7a36b9",
   "metadata": {},
   "source": [
    "Porque el precio se **compone multiplicativamente** y $\\log$ convierte **productos en sumas**:\n",
    "\n",
    "$$\n",
    "S_T=S_0\\prod_{t=1}^n(1+r_t)\\quad\\Rightarrow\\quad\n",
    "\\ln\\frac{S_T}{S_0}=\\sum_{t=1}^n \\ln(1+r_t).\n",
    "$$\n",
    "\n",
    "El **log-retorno** $g_t:=\\ln(1+r_t)=\\ln S_t-\\ln S_{t-1}$ es **aditivo en el tiempo**:\n",
    "\n",
    "$$\n",
    "\\sum_{t=1}^n g_t=\\ln S_T-\\ln S_0.\n",
    "$$\n",
    "\n",
    "El retorno aritmético no lo es porque la composición genera un **término cruzado**:\n",
    "\n",
    "$$\n",
    "(1+r_1)(1+r_2)-1=r_1+r_2+r_1r_2\\neq r_1+r_2.\n",
    "$$\n",
    "\n",
    "Ejemplo: $r_1=+50\\%,\\ r_2=-50\\%$.\n",
    "Suma aritmética $=0$, pero\n",
    "$(1.5)(0.5)-1=-25\\%$.\n",
    "Log-retornos: $\\ln1.5+\\ln0.5=\\ln0.75\\approx-28.4\\%$ y\n",
    "$\\exp(\\sum g)-1=0.75-1=-25\\%$.\n",
    "\n",
    "Aproximación: para $|r|\\ll1$, $\\ln(1+r)\\approx r-\\tfrac12 r^2$. Por eso sumar retornos **aproxima** sumar logs cuando los $r_t$ son pequeños; el sesgo $-\\tfrac12\\sum r_t^2$ es la “penalización por volatilidad”.\n",
    "\n",
    "Modelo continuo: si $\\dfrac{dS_t}{S_t}=\\mu\\,dt+\\sigma\\,dW_t$, entonces\n",
    "$d\\ln S_t=(\\mu-\\tfrac12\\sigma^2)dt+\\sigma\\,dW_t$ **se integra por suma**, lo que formaliza la aditividad de los log-retornos.\n"
   ]
  }
 ],
 "metadata": {
  "language_info": {
   "name": "python"
  }
 },
 "nbformat": 4,
 "nbformat_minor": 5
}
